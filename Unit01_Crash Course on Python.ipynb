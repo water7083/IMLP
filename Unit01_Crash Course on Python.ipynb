{
 "cells": [
  {
   "cell_type": "markdown",
   "metadata": {},
   "source": [
    "# Python programming \n",
    "## Crash Course on Python Coding Practice\n",
    "\n",
    "No matter the level of mastery you hope to get to in Python,<br> \n",
    "you'll need these fundamentals in place before you jump into any project.<br><br>\n",
    "\n",
    "You need to know how to:\n",
    "\n",
    "- declare variables\n",
    "- collect user input\n",
    "- store information\n",
    "- repeat an action through loops\n",
    "- write functions to repeat blocks of code\n"
   ]
  },
  {
   "cell_type": "markdown",
   "metadata": {},
   "source": [
    "### 01 - 奇偶數辨別（Odd or even）\n",
    "#### 當使用者輸入一個的數字，它能夠辨別奇偶，並輸出檢驗結果給使用者。\n",
    "\n",
    "> 題目：輸入一數字判斷奇數或偶數<br>\n",
    "輸入(Input): 一個數字 <br>\n",
    "輸出(Output):奇數或偶數\n",
    "\n",
    "* 進階: 可以限制輸入一個介於一定範圍（例如 1 到 1000）的數字"
   ]
  },
  {
   "cell_type": "code",
   "execution_count": 4,
   "metadata": {},
   "outputs": [
    {
     "name": "stdin",
     "output_type": "stream",
     "text": [
      "輸入一數字判斷奇數或偶數 2\n"
     ]
    },
    {
     "name": "stdout",
     "output_type": "stream",
     "text": [
      "偶數\n"
     ]
    }
   ],
   "source": [
    "# 當使用者輸入一個的數字，它能夠辨別奇偶，並輸出檢驗結果給使用者\n",
    "\n",
    "x = int(input(\"輸入一數字判斷奇數或偶數\"))\n",
    "\n",
    "if x%2 == 0:\n",
    "    print(\"偶數\")\n",
    "else:\n",
    "    print(\"奇數\")"
   ]
  },
  {
   "cell_type": "code",
   "execution_count": 5,
   "metadata": {},
   "outputs": [
    {
     "name": "stdin",
     "output_type": "stream",
     "text": [
      "輸入一數字判斷奇數或偶數（1 到 1000） 5\n"
     ]
    },
    {
     "name": "stdout",
     "output_type": "stream",
     "text": [
      "奇數\n"
     ]
    }
   ],
   "source": [
    "# 進階: 可以限制輸入一個介於一定範圍（例如 1 到 1000）的數字\n",
    "\n",
    "x = int(input(\"輸入一數字判斷奇數或偶數（1 到 1000）\"))\n",
    "\n",
    "if 1 <= x <= 1000:\n",
    "    if x%2 == 0:\n",
    "        print(\"偶數\")\n",
    "    else:\n",
    "        print(\"奇數\")\n",
    "else:\n",
    "    print(\"1 到 1000\")"
   ]
  },
  {
   "cell_type": "code",
   "execution_count": 24,
   "metadata": {},
   "outputs": [
    {
     "name": "stdin",
     "output_type": "stream",
     "text": [
      "輸入一數字判斷奇數或偶數（1 到 1000）（輸入0結束） 12\n"
     ]
    },
    {
     "name": "stdout",
     "output_type": "stream",
     "text": [
      "偶數\n"
     ]
    },
    {
     "name": "stdin",
     "output_type": "stream",
     "text": [
      "輸入一數字判斷奇數或偶數（1 到 1000）（輸入0結束） 3\n"
     ]
    },
    {
     "name": "stdout",
     "output_type": "stream",
     "text": [
      "奇數\n"
     ]
    },
    {
     "name": "stdin",
     "output_type": "stream",
     "text": [
      "輸入一數字判斷奇數或偶數（1 到 1000）（輸入0結束） 1500\n"
     ]
    },
    {
     "name": "stdout",
     "output_type": "stream",
     "text": [
      "1 到 1000\n"
     ]
    },
    {
     "name": "stdin",
     "output_type": "stream",
     "text": [
      "輸入一數字判斷奇數或偶數（1 到 1000）（輸入0結束） 1000\n"
     ]
    },
    {
     "name": "stdout",
     "output_type": "stream",
     "text": [
      "偶數\n"
     ]
    },
    {
     "name": "stdin",
     "output_type": "stream",
     "text": [
      "輸入一數字判斷奇數或偶數（1 到 1000）（輸入0結束） 1\n"
     ]
    },
    {
     "name": "stdout",
     "output_type": "stream",
     "text": [
      "奇數\n"
     ]
    },
    {
     "name": "stdin",
     "output_type": "stream",
     "text": [
      "輸入一數字判斷奇數或偶數（1 到 1000）（輸入0結束） 0\n"
     ]
    }
   ],
   "source": [
    "# 進階: 可以輸入一個介於一定範圍（例如 1 到 1000）的數字，直到輸入0結束\n",
    "\n",
    "while True:\n",
    "    \n",
    "    x = int(input(\"輸入一數字判斷奇數或偶數（1 到 1000）（輸入0結束）\"))\n",
    "    \n",
    "    if 1 <= x <= 1000:\n",
    "        if x%2 == 0:\n",
    "            print(\"偶數\")\n",
    "        else:\n",
    "            print(\"奇數\")\n",
    "    elif x == 0:\n",
    "        break\n",
    "    else:\n",
    "        print(\"1 到 1000\")"
   ]
  },
  {
   "cell_type": "markdown",
   "metadata": {},
   "source": [
    "### 02 - 填字遊戲（Mad libs game）\n",
    "#### 使用者輸入任何字，它可以是名詞、形容詞、動詞、代名詞等。程式得到文字後，可自行排列，組成成一個模板故事。\n",
    "\n",
    "<span style=\"color:red; font-weight:bold\">> 題目：輸入一數字判斷奇數或偶數<br></span>\n",
    "輸入(Input): 一連串依據說明輸入對應文字 <br>\n",
    "輸出(Output): 模板故事\n",
    "\n",
    "* 進階: 可以讓程式重複執行"
   ]
  },
  {
   "cell_type": "code",
   "execution_count": 6,
   "metadata": {},
   "outputs": [
    {
     "name": "stdin",
     "output_type": "stream",
     "text": [
      "請以空格分隔，依序輸入你的姓名、年紀、職業、興趣及短期目標 a b c d e\n"
     ]
    },
    {
     "name": "stdout",
     "output_type": "stream",
     "text": [
      "我叫a，今年b歲，職業是c，興趣是d，短期目標為e\n"
     ]
    }
   ],
   "source": [
    "# 使用者輸入任何字，它可以是名詞、形容詞、動詞、代名詞等。程式得到文字後，可自行排列，組成成一個模板故事。\n",
    "\n",
    "a, b, c, d, e = input(\"請以空格分隔，依序輸入你的姓名、年紀、職業、興趣及短期目標\").split()\n",
    "\n",
    "print(f\"我叫{a}，今年{b}歲，職業是{c}，興趣是{d}，短期目標為{e}\")"
   ]
  },
  {
   "cell_type": "code",
   "execution_count": 8,
   "metadata": {},
   "outputs": [
    {
     "name": "stdin",
     "output_type": "stream",
     "text": [
      "有幾位學生？ 4\n",
      "請以空格分隔，依序輸入你的姓名、年紀、職業、興趣及短期目標 a1 a2 a3 a4 a5\n",
      "請以空格分隔，依序輸入你的姓名、年紀、職業、興趣及短期目標 b1 b2 b3 b4 b5\n",
      "請以空格分隔，依序輸入你的姓名、年紀、職業、興趣及短期目標 c1 c2 c3 c4 c5\n",
      "請以空格分隔，依序輸入你的姓名、年紀、職業、興趣及短期目標 d1 d2 d3 d4 d5\n"
     ]
    },
    {
     "name": "stdout",
     "output_type": "stream",
     "text": [
      "======共4筆個人資料======\n",
      "====個人資料1====\n",
      "姓名：a1\n",
      "年紀：a2歲\n",
      "職業：a3\n",
      "興趣：a4\n",
      "短期目標：a5\n",
      "====個人資料2====\n",
      "姓名：b1\n",
      "年紀：b2歲\n",
      "職業：b3\n",
      "興趣：b4\n",
      "短期目標：b5\n",
      "====個人資料3====\n",
      "姓名：c1\n",
      "年紀：c2歲\n",
      "職業：c3\n",
      "興趣：c4\n",
      "短期目標：c5\n",
      "====個人資料4====\n",
      "姓名：d1\n",
      "年紀：d2歲\n",
      "職業：d3\n",
      "興趣：d4\n",
      "短期目標：d5\n"
     ]
    }
   ],
   "source": [
    "# 進階: 可以讓程式重複執行N次\n",
    "\n",
    "data = []\n",
    "\n",
    "x = int(input(\"有幾位學生？\"))\n",
    "\n",
    "for i in range(x):\n",
    "    \n",
    "    a, b, c, d, e = input(\"請以空格分隔，依序輸入你的姓名、年紀、職業、興趣及短期目標\").split()\n",
    "        \n",
    "    data.append((a, b, c, d, e)) #tuple\n",
    "\n",
    "print(f\"======共{len(data)}筆個人資料======\")\n",
    "\n",
    "for idx, (a, b, c, d, e) in enumerate(data):\n",
    "    print(f\"====個人資料{idx+1}====\\n姓名：{a}\\n年紀：{b}歲\\n職業：{c}\\n興趣：{d}\\n短期目標：{e}\")"
   ]
  },
  {
   "cell_type": "code",
   "execution_count": 10,
   "metadata": {},
   "outputs": [
    {
     "name": "stdin",
     "output_type": "stream",
     "text": [
      "請以空格分隔，依序輸入你的姓名、年紀、職業、興趣及短期目標（輸入5個0結束，記得空格） 1 2 3 4 5\n"
     ]
    },
    {
     "name": "stdout",
     "output_type": "stream",
     "text": [
      "====個人資料====\n",
      "姓名：1\n",
      "年紀：2歲\n",
      "職業：3\n",
      "興趣：4\n",
      "短期目標：5\n",
      "===============\n"
     ]
    },
    {
     "name": "stdin",
     "output_type": "stream",
     "text": [
      "請以空格分隔，依序輸入你的姓名、年紀、職業、興趣及短期目標（輸入5個0結束，記得空格） 0 0 0 0 0\n"
     ]
    },
    {
     "name": "stdout",
     "output_type": "stream",
     "text": [
      "程式結束\n"
     ]
    }
   ],
   "source": [
    "# 進階: 可以讓程式重複執行，直到輸入0 0 0 0 0結束\n",
    "\n",
    "while True:\n",
    "    \n",
    "    a, b, c, d, e = input(\"請以空格分隔，依序輸入你的姓名、年紀、職業、興趣及短期目標（輸入5個0結束，記得空格）\").split()\n",
    "    \n",
    "    if (a + b + c + d + e) != \"00000\":\n",
    "        print(f\"====個人資料====\\n姓名：{a}\\n年紀：{b}歲\\n職業：{c}\\n興趣：{d}\\n短期目標：{e}\\n===============\")\n",
    "    else:\n",
    "        print(\"程式結束\")\n",
    "        break"
   ]
  },
  {
   "cell_type": "markdown",
   "metadata": {},
   "source": [
    "### 03 -  猜數字（Guess the number）\n",
    "#### 請使用者猜一個介於範圍（例如 1 到 100）之間的數字，\n",
    "#### 若使用者猜錯，就詢問他們想繼續玩還是退出；若使用者猜對，就顯示祝賀訊息，\n",
    "#### 並統計使用者的嘗試次數。如果使用者輸入的數字超出設定範圍，就顯示錯誤提示。\n",
    "\n",
    "![](data\\guess.png)\n"
   ]
  },
  {
   "cell_type": "code",
   "execution_count": 11,
   "metadata": {},
   "outputs": [
    {
     "name": "stdin",
     "output_type": "stream",
     "text": [
      "猜數字範圍 0 < ? < 100； 5\n"
     ]
    },
    {
     "name": "stdout",
     "output_type": "stream",
     "text": [
      "再大一點！！ 您猜了1次，輸入0可以結束遊戲\n"
     ]
    },
    {
     "name": "stdin",
     "output_type": "stream",
     "text": [
      "猜數字範圍 5 < ? < 100； 50\n"
     ]
    },
    {
     "name": "stdout",
     "output_type": "stream",
     "text": [
      "再小一點！！ 您猜了2次，輸入0可以結束遊戲\n"
     ]
    },
    {
     "name": "stdin",
     "output_type": "stream",
     "text": [
      "猜數字範圍 5 < ? < 50； 30\n"
     ]
    },
    {
     "name": "stdout",
     "output_type": "stream",
     "text": [
      "再大一點！！ 您猜了3次，輸入0可以結束遊戲\n"
     ]
    },
    {
     "name": "stdin",
     "output_type": "stream",
     "text": [
      "猜數字範圍 30 < ? < 50； 40\n"
     ]
    },
    {
     "name": "stdout",
     "output_type": "stream",
     "text": [
      "再小一點！！ 您猜了4次，輸入0可以結束遊戲\n"
     ]
    },
    {
     "name": "stdin",
     "output_type": "stream",
     "text": [
      "猜數字範圍 30 < ? < 40； 35\n"
     ]
    },
    {
     "name": "stdout",
     "output_type": "stream",
     "text": [
      "再小一點！！ 您猜了5次，輸入0可以結束遊戲\n"
     ]
    },
    {
     "name": "stdin",
     "output_type": "stream",
     "text": [
      "猜數字範圍 30 < ? < 35； 34\n"
     ]
    },
    {
     "name": "stdout",
     "output_type": "stream",
     "text": [
      "再小一點！！ 您猜了6次，輸入0可以結束遊戲\n"
     ]
    },
    {
     "name": "stdin",
     "output_type": "stream",
     "text": [
      "猜數字範圍 30 < ? < 34； 33\n"
     ]
    },
    {
     "name": "stdout",
     "output_type": "stream",
     "text": [
      "賓果！ 猜對了，答案是33，總共猜了7次\n"
     ]
    }
   ],
   "source": [
    "# 請使用者猜一個介於範圍（例如 1 到 100）之間的數字\n",
    "\n",
    "import random\n",
    "\n",
    "a = random.randint(1, 99)\n",
    "\n",
    "low, high = 0, 100\n",
    "\n",
    "i = 0\n",
    "\n",
    "while True:\n",
    "    \n",
    "    x = int(input(f\"猜數字範圍 {low} < ? < {high}；\"))\n",
    "    \n",
    "    i = i + 1\n",
    "        \n",
    "    if x == 0:\n",
    "        break    \n",
    "    elif x == a:\n",
    "        print(f\"賓果！ 猜對了，答案是{a}，總共猜了{i}次\")\n",
    "        break\n",
    "    elif not (low < x < high):\n",
    "        print(f\"超過範圍了喔！ 您猜了{i}次，輸入0可以結束遊戲\")\n",
    "    elif a < x:\n",
    "        print(f\"再小一點！！ 您猜了{i}次，輸入0可以結束遊戲\")\n",
    "        high = x\n",
    "    elif x < a:    \n",
    "        print(f\"再大一點！！ 您猜了{i}次，輸入0可以結束遊戲\")\n",
    "        low = x\n",
    "    else:\n",
    "        print(f\"超過範圍了喔！ 您猜了{i}次，輸入0可以結束遊戲\")"
   ]
  },
  {
   "cell_type": "markdown",
   "metadata": {},
   "source": [
    "### 04 - 計算字數（Word count）\n",
    "#### 使用者輸入一段文字或讀取一檔案，程式統計字數。\n",
    "\n",
    "> 輸入(Input):我要成為寫程式的專家 <br>\n",
    "輸出(Output):你用了 10 個文字述說內心的想法\n",
    "\n",
    "#### 在特定的文章字串中搜尋輸入的特定字，請使用者輸入欲搜尋的文字，印出總共有幾個。<br>\n",
    ">輸入(Input):天<br>\n",
    "輸出(Output): 9\n",
    "\n",
    "* 進階:計算文章中去除標點符號後的字數，找出文章中出現最多的字與次數"
   ]
  },
  {
   "cell_type": "code",
   "execution_count": 12,
   "metadata": {},
   "outputs": [
    {
     "name": "stdin",
     "output_type": "stream",
     "text": [
      "輸入一段文字，統計字元數 Python is fun.\n"
     ]
    },
    {
     "name": "stdout",
     "output_type": "stream",
     "text": [
      "你用了 14 個文字述說內心的想法\n"
     ]
    }
   ],
   "source": [
    "# 使用者輸入一段文字，程式統計字數\n",
    "\n",
    "word = input(\"輸入一段文字，統計字元數\")\n",
    "print(\"你用了 %d 個文字述說內心的想法\"%(len(word)))"
   ]
  },
  {
   "cell_type": "code",
   "execution_count": 13,
   "metadata": {},
   "outputs": [
    {
     "name": "stdin",
     "output_type": "stream",
     "text": [
      "請輸入1或2：\n",
      "1.輸入一段文字\n",
      "2.讀取一個檔案 1\n",
      "輸入一段文字，統計字元數 It's rain.\n"
     ]
    },
    {
     "name": "stdout",
     "output_type": "stream",
     "text": [
      "你用了 10 個文字述說內心的想法\n"
     ]
    }
   ],
   "source": [
    "# 使用者輸入一段文字或讀取一檔案，程式統計字數\n",
    "\n",
    "import os\n",
    "import chardet\n",
    "\n",
    "x = int(input(\"請輸入1或2：\\n1.輸入一段文字\\n2.讀取一個檔案\"))\n",
    "\n",
    "if x == 1:\n",
    "    word = input(\"輸入一段文字，統計字元數\")\n",
    "    print(\"你用了 %d 個文字述說內心的想法\" % (len(word)))\n",
    "\n",
    "elif x == 2:\n",
    "    \n",
    "    while True:\n",
    "        print(f\"當前檔案位置為：{os.getcwd()}\") \n",
    "        filename = input(\"輸入檔案名稱（例如：123.txt）：\")\n",
    "        \n",
    "        try:\n",
    "            with open(filename, \"rb\") as f:\n",
    "                raw_data = f.read()\n",
    "                \n",
    "            # 自動偵測編碼\n",
    "            detected = chardet.detect(raw_data)\n",
    "            encoding = detected['encoding']\n",
    "            \n",
    "            data = raw_data.decode(encoding) #轉文字\n",
    "            \n",
    "            print(data)\n",
    "            print(\"總字元數：\", len(data))\n",
    "            \n",
    "            break\n",
    "        \n",
    "        except FileNotFoundError:\n",
    "            print(\"找不到檔案\")\n",
    "            \n",
    "        except Exception as e:\n",
    "            print(\"讀檔失敗，原因：\", e)\n",
    "        \n",
    "else:\n",
    "    print(\"請輸入1或2\")"
   ]
  },
  {
   "cell_type": "code",
   "execution_count": 17,
   "metadata": {},
   "outputs": [
    {
     "name": "stdin",
     "output_type": "stream",
     "text": [
      "請輸入一文字 天\n"
     ]
    },
    {
     "name": "stdout",
     "output_type": "stream",
     "text": [
      "9\n",
      "漢皇重色思傾國御宇多年求不得楊家有女初長成養在深閏人未識天生麗質難自棄一朝選在君王側回眸一笑百媚生六\n",
      "文章總字數: 840\n",
      "不\n",
      "14\n"
     ]
    }
   ],
   "source": [
    "s = '''漢皇重色思傾國，御宇多年求不得。\n",
    "\n",
    "楊家有女初長成，養在深閏人未識。\n",
    "\n",
    "天生麗質難自棄，一朝選在君王側。\n",
    "\n",
    "回眸一笑百媚生，六宮粉黛無顏色。\n",
    "\n",
    "春寒賜浴華清池，溫泉水滑洗凝脂；\n",
    "\n",
    "侍兒扶起嬌無力，始是新承恩澤時。\n",
    "\n",
    "雲鬢花顏金步搖，芙蓉帳暖度春宵；\n",
    "\n",
    "春宵苦短日高起，從此君王不早朝。\n",
    "\n",
    "承歡侍宴無閑暇，春從春遊夜專夜。\n",
    "\n",
    "後宮佳麗三千人，三千寵愛在一身。\n",
    "\n",
    "金屋妝成嬌侍夜，玉樓宴罷醉和春。\n",
    "\n",
    "姊妹弟兄皆列士，可憐光彩生門戶。\n",
    "\n",
    "遂令天下父母心，不重生男重生女。\n",
    "\n",
    "驪宮高處入青雲，仙樂風飄處處聞。\n",
    "\n",
    "緩歌慢舞凝絲竹，盡日君王看不足。\n",
    "\n",
    "漁陽鼙鼓動地來，驚破霓裳羽衣曲。\n",
    "\n",
    "九重城闕煙塵生，千乘萬騎西南行。\n",
    "\n",
    "翠華搖搖行復止，西出都門百餘里；\n",
    "\n",
    "六軍不發無奈何？宛轉蛾眉馬前死。\n",
    "\n",
    "花鈿委地無人收，翠翹金雀玉搔頭。\n",
    "\n",
    "君王掩面救不得，回看血淚相和流。\n",
    "\n",
    "黃埃散漫風蕭索，雲棧縈紆登劍閣。\n",
    "\n",
    "峨嵋山下少人行，旌旗無光日色薄。\n",
    "\n",
    "蜀江水碧蜀山青，聖主朝朝暮暮情。\n",
    "\n",
    "行宮見月傷心色，夜雨聞鈴腸斷聲。\n",
    "\n",
    "天旋地轉迴龍馭，到此躊躇不能去。\n",
    "\n",
    "馬嵬坡下泥土中，不見玉顏空死處。\n",
    "\n",
    "君臣相顧盡霑衣，東望都門信馬歸。\n",
    "\n",
    "歸來池苑皆依舊，太液芙蓉未央柳；\n",
    "\n",
    "芙蓉如面柳如眉，對此如何不淚垂？\n",
    "\n",
    "春風桃李花開日，秋雨梧桐葉落時。\n",
    "\n",
    "西宮南內多秋草，落葉滿階紅不掃。\n",
    "\n",
    "梨園子弟白髮新，椒房阿監青娥老。\n",
    "\n",
    "夕殿螢飛思悄然，孤燈挑盡未成眠。\n",
    "\n",
    "遲遲鐘鼓初長夜，耿耿星河欲曙天。\n",
    "\n",
    "鴛鴦瓦冷霜華重，翡翠衾寒誰與共？\n",
    "\n",
    "悠悠生死別經年，魂魄不曾來入夢。\n",
    "\n",
    "臨邛道士鴻都客，能以精誠致魂魄；\n",
    "\n",
    "為感君王輾轉思，遂教方士殷勤覓。\n",
    "\n",
    "排空馭氣奔如電，升天入地求之遍；\n",
    "\n",
    "上窮碧落下黃泉，兩處茫茫皆不見。\n",
    "\n",
    "忽聞海上有仙山，山在虛無縹緲間。\n",
    "\n",
    "樓閣玲瓏五雲起，其中綽約多仙子。\n",
    "\n",
    "中有一人字太真，雪膚花貌參差是。\n",
    "\n",
    "金闕西廂叩玉扃，轉教小玉報雙成。\n",
    "\n",
    "聞道漢家天子使，九華帳裡夢魂驚；\n",
    "\n",
    "攬衣推枕起徘徊，珠箔銀屏迤邐開。\n",
    "\n",
    "雲鬢半偏新睡覺，花冠不整下堂來。\n",
    "\n",
    "風吹仙袂飄飄舉，猶似霓裳羽衣舞。\n",
    "\n",
    "玉容寂寞淚闌干，梨花一枝春帶雨。\n",
    "\n",
    "含情凝睇謝君王，一別音容兩渺茫。\n",
    "\n",
    "昭陽殿裡恩愛絕，蓬萊宮中日月長。\n",
    "\n",
    "回頭下望人寰處，不見長安見塵霧。\n",
    "\n",
    "唯將舊物表深情，鈿合金釵寄將去。\n",
    "\n",
    "釵留一股合一扇，釵擘黃金合分鈿。\n",
    "\n",
    "但教心似金鈿堅，天上人間會相見。\n",
    "\n",
    "臨別殷勤重寄詞，詞中有誓兩心知，\n",
    "\n",
    "七月七日長生殿，夜半無人私語時：「\n",
    "\n",
    "在天願作比翼鳥，在地願為連理枝。」\n",
    "\n",
    "天長地久有時盡，此恨綿綿無絕期。\n",
    "'''\n",
    "\n",
    "#請使用者輸入一文字\n",
    "#計算該文字在文章出現次數\n",
    "#列印出現次數\n",
    "tt = input(\"請輸入一文字\")\n",
    "print(s.count(tt))\n",
    "\n",
    "#把變數s中 '。，\\n；：？「」'的標點符號去除\n",
    "for i in '。，\\n；：？「」':\n",
    "    # print(i)\n",
    "    s = s.replace(i, '')\n",
    "print(s[:50])\n",
    "\n",
    "#目前已知出現最多次的字的次數\n",
    "#目前已知出現最多次的字\n",
    " \n",
    "print('文章總字數:',len(s))\n",
    "\n",
    "maxct = 0\n",
    "maxchar = ''\n",
    "\n",
    "for astr in s:\n",
    "    #print(astr)\n",
    "    act = s.count(astr)\n",
    "    # 如果 現在這個字出現的次數(act) 大於 目前已知出現最多次字的次數\n",
    "    if act > maxct:\n",
    "        #就讓 現在這個字出現的次數 成為 目前已知出現最多次的字的次數\n",
    "        maxct = act\n",
    "        #還要記錄 現在這個字(astr) 到 目前已知出現最多次的字\n",
    "        maxchar = astr\n",
    "\n",
    "print(maxchar)\n",
    "print(maxct)"
   ]
  },
  {
   "cell_type": "code",
   "execution_count": 1,
   "metadata": {},
   "outputs": [
    {
     "name": "stdin",
     "output_type": "stream",
     "text": [
      "請輸入1或2：\n",
      "1.輸入一段文字\n",
      "2.讀取一個檔案 1\n",
      "輸入一段文字，統計字元數 2323\n"
     ]
    },
    {
     "name": "stdout",
     "output_type": "stream",
     "text": [
      "你用了 4 個文字述說內心的想法\n"
     ]
    },
    {
     "name": "stdin",
     "output_type": "stream",
     "text": [
      "請輸入一個文字，計算文字出現的次數： 2\n"
     ]
    },
    {
     "name": "stdout",
     "output_type": "stream",
     "text": [
      "共出現 2 次\n"
     ]
    }
   ],
   "source": [
    "#請使用者輸入一段文字或讀取一個檔案，統計字元數\n",
    "##請使用者輸入一文字\n",
    "#計算該文字在文章出現次數\n",
    "#列印出現次數\n",
    "\n",
    "import os\n",
    "import chardet\n",
    "\n",
    "x = int(input(\"請輸入1或2：\\n1.輸入一段文字\\n2.讀取一個檔案\"))\n",
    "\n",
    "if x == 1:\n",
    "    data = input(\"輸入一段文字，統計字元數\")\n",
    "    print(\"你用了 %d 個文字述說內心的想法\" % (len(data)))\n",
    "\n",
    "elif x == 2:\n",
    "    \n",
    "    while True:\n",
    "        print(f\"當前檔案位置為：{os.getcwd()}\") \n",
    "        filename = input(\"輸入檔案名稱（例如：123.txt）：\")\n",
    "        \n",
    "        try:\n",
    "            with open(filename, \"rb\") as f:\n",
    "                raw_data = f.read()\n",
    "                \n",
    "            # 自動偵測編碼\n",
    "            detected = chardet.detect(raw_data)\n",
    "            encoding = detected['encoding']\n",
    "            \n",
    "            data = raw_data.decode(encoding) #轉文字\n",
    "            \n",
    "            # print(data)\n",
    "            print(\"總字元數：\", len(data))\n",
    "            \n",
    "            break\n",
    "        \n",
    "        except FileNotFoundError:\n",
    "            print(\"找不到檔案\")\n",
    "            \n",
    "        except Exception as e:\n",
    "            print(\"讀檔失敗，原因：\", e)\n",
    "        \n",
    "else:\n",
    "    print(\"請輸入1或2\")\n",
    "\n",
    "y = input(\"請輸入一個文字，計算文字出現的次數：\")\n",
    "print(\"共出現\", data.count(y), \"次\")"
   ]
  },
  {
   "cell_type": "code",
   "execution_count": 2,
   "metadata": {},
   "outputs": [
    {
     "name": "stdin",
     "output_type": "stream",
     "text": [
      "請輸入1或2：\n",
      "1.輸入一段文字\n",
      "2.讀取一個檔案 1\n",
      "輸入一段文字，統計字元數 333356\n"
     ]
    },
    {
     "name": "stdout",
     "output_type": "stream",
     "text": [
      "你用了 6 個文字述說內心的想法\n",
      "333356\n",
      "總字元數： 6\n"
     ]
    }
   ],
   "source": [
    "#請使用者輸入一段文字或讀取一個檔案，印出前50字元，統計字元數\n",
    "#把'。，\\n；：？「」'的標點符號去除，印出前50字元，並再次統計字元數\n",
    "\n",
    "import os\n",
    "\n",
    "x = int(input(\"請輸入1或2：\\n1.輸入一段文字\\n2.讀取一個檔案\"))\n",
    "\n",
    "if x == 1:\n",
    "    data = input(\"輸入一段文字，統計字元數\")\n",
    "    print(\"你用了 %d 個文字述說內心的想法\" % (len(data)))\n",
    "\n",
    "elif x == 2:\n",
    "    \n",
    "    while True:\n",
    "        print(f\"當前檔案位置為：{os.getcwd()}\") \n",
    "        filename = input(\"輸入檔案名稱（例如：123.txt）：\")\n",
    "        \n",
    "        try:\n",
    "            with open(filename, \"r\", encoding=\"big5\") as f:\n",
    "                data = f.read()\n",
    "            \n",
    "            print(data[:50])\n",
    "                \n",
    "            print(\"總字元數：\", len(data))\n",
    "            \n",
    "            break\n",
    "        \n",
    "        except FileNotFoundError:\n",
    "            print(\"找不到檔案\")\n",
    "            \n",
    "        except Exception as e:\n",
    "            print(\"讀檔失敗，原因：\", e)\n",
    "        \n",
    "else:\n",
    "    print(\"請輸入1或2\")\n",
    "    exit()\n",
    "\n",
    "for i in '。，；：？「」\\n':\n",
    "    # print(i)\n",
    "    data = data.replace(i, '')\n",
    "\n",
    "print(data[:50])\n",
    "    \n",
    "print(\"總字元數：\", len(data))"
   ]
  },
  {
   "cell_type": "code",
   "execution_count": 3,
   "metadata": {},
   "outputs": [
    {
     "name": "stdin",
     "output_type": "stream",
     "text": [
      "請輸入1或2：\n",
      "1.輸入一段文字\n",
      "2.讀取一個檔案 1\n",
      "輸入一段文字，統計字元數 56449321434\n"
     ]
    },
    {
     "name": "stdout",
     "output_type": "stream",
     "text": [
      "你用了 11 個文字述說內心的想法\n",
      "出現最多次的字為： 4 ，共出現 4 次\n"
     ]
    }
   ],
   "source": [
    "#請使用者輸入一段文字或讀取一個檔案\n",
    "#把'。，\\n；：？「」'的標點符號去除\n",
    "#目前已知出現最多次的字的次數\n",
    "#目前已知出現最多次的字\n",
    "\n",
    "import os\n",
    "\n",
    "x = int(input(\"請輸入1或2：\\n1.輸入一段文字\\n2.讀取一個檔案\"))\n",
    "\n",
    "if x == 1:\n",
    "    data = input(\"輸入一段文字，統計字元數\")\n",
    "    print(\"你用了 %d 個文字述說內心的想法\" % (len(data)))\n",
    "\n",
    "elif x == 2:\n",
    "    \n",
    "    while True:\n",
    "        print(f\"當前檔案位置為：{os.getcwd()}\") \n",
    "        filename = input(\"輸入檔案名稱（例如：123.txt）：\")\n",
    "        \n",
    "        try:\n",
    "            with open(filename, \"r\", encoding=\"big5\") as f:\n",
    "                data = f.read()\n",
    "            \n",
    "            break\n",
    "        \n",
    "        except FileNotFoundError:\n",
    "            print(\"找不到檔案\")\n",
    "            \n",
    "        except Exception as e:\n",
    "            print(\"讀檔失敗，原因：\", e)\n",
    "        \n",
    "else:\n",
    "    print(\"請輸入1或2\")\n",
    "    exit()\n",
    "\n",
    "for i in '。，；：？「」\\n':\n",
    "    # print(i)\n",
    "    data = data.replace(i, '')\n",
    "\n",
    "maxct = 0\n",
    "maxchar = ''\n",
    "\n",
    "for astr in data:\n",
    "    \n",
    "    act = data.count(astr)\n",
    "    \n",
    "    if act > maxct:\n",
    "        maxct = act\n",
    "        maxchar = astr\n",
    "        \n",
    "print(\"出現最多次的字為：\",maxchar, \"，共出現\", maxct, \"次\")"
   ]
  },
  {
   "cell_type": "markdown",
   "metadata": {},
   "source": [
    "### 05 - Email 域名判斷器（Email slicer）\n",
    "#### 請用戶輸入 Email 地址，然後判斷它是自定義域名還是熱門域名。\n",
    "\n",
    "> 題目：<br>\n",
    "輸入(Input):shelly200318@hotmail.com.tw  <br>\n",
    "輸出(Output):Your username is 'shelly200318' and your domain name is 'hotmail.com.tw' <br>\n",
    "\n",
    "\n",
    "* 進階：把常用的信箱存成字典，加入判斷是否為\n",
    ">輸入(Input):mary.jane@gmail.com  <br>\n",
    "輸出(Output):這是註冊在 Google 之下的 Email 地址 <br>\n",
    "輸入(Input):matt.pan@myfantasy.com  <br>\n",
    "輸出(Output):這是在 myfantasy 之下自定義域\n",
    "\n"
   ]
  },
  {
   "cell_type": "code",
   "execution_count": 26,
   "metadata": {},
   "outputs": [
    {
     "name": "stdin",
     "output_type": "stream",
     "text": [
      "What is your email address?:  water7083@gmail.com\n"
     ]
    },
    {
     "name": "stdout",
     "output_type": "stream",
     "text": [
      "Your username is water7083 and your domain name is gmail.com.\n"
     ]
    }
   ],
   "source": [
    "# Get user email address\n",
    "email = input(\"What is your email address?: \").strip()\n",
    "\n",
    "# Slice out the user name\n",
    "# user_name = email[:email.index('@')]\n",
    "\n",
    "# Slice the domain name\n",
    "# domain_name = email[email.index('@')+1:len(email)]\n",
    "\n",
    "user_name, domain_name = email.split('@')\n",
    "\n",
    "# Format message\n",
    "# output = \"Your username is '{}' and your domain name is '{}'\".format(user_name,domain_name)\n",
    "\n",
    "# Display output message\n",
    "# print(output)\n",
    "\n",
    "print(f\"Your username is {user_name} and your domain name is {domain_name}.\")\n",
    "\n",
    "domain = {'gmail.com':'Google','yahoo.com.tw':'Yahoo','ntu.edu.tw':'臺大','hotmail.com.tw':'Hotmail','hotmail.com':'Hotmail'}\n",
    "\n",
    "if domain_name in domain: \n",
    "    output = \"這是註冊在 {} 之下的 Email 地址'\".format(domain[domain_name])\n",
    "else:\n",
    "    output = \"這是在 {} 之下自定義域\".format(domain[domain_name])"
   ]
  },
  {
   "cell_type": "markdown",
   "metadata": {},
   "source": [
    "### 06 - 及格名單（Pass list）\n",
    "#### 請使用集合功能來完成各科級名單的判斷\n",
    "```\n",
    "米花市帝丹小學一年级B班正舉辦期中考試\n",
    "數學及格的有：柯南、灰原、步美、美環、光彦\n",
    "英文及格的有：柯南、灰原、丸尾、野口、步美\n",
    "以上已列出全班所有人\n",
    "```\n",
    "\n",
    ">請分別列出<br>\n",
    "數學及格但英文不及格的同學名單<br>\n",
    "數學不及格但英文及格的同學名單<br>\n",
    "兩者皆及格名單<br>\n",
    "* Hint:差集(減法)、交集\n"
   ]
  },
  {
   "cell_type": "code",
   "execution_count": 28,
   "metadata": {},
   "outputs": [
    {
     "name": "stdout",
     "output_type": "stream",
     "text": [
      "數學及格但英文不及格的同學名單: {'美環', '光彦'}\n",
      "數學不及格但英文及格的同學名單: {'野口', '丸尾'}\n",
      "兩者皆及格名單: {'柯南', '步美', '灰原'}\n"
     ]
    }
   ],
   "source": [
    "m={'柯南','灰原','步美','美環','光彦'}\n",
    "e={'柯南','灰原','丸尾','野口','步美'}\n",
    "\n",
    "print(f\"數學及格但英文不及格的同學名單: {m-e}\")\n",
    "print(f\"數學不及格但英文及格的同學名單: {e-m}\")\n",
    "print(f\"兩者皆及格名單: {m&e}\")"
   ]
  },
  {
   "cell_type": "code",
   "execution_count": 29,
   "metadata": {},
   "outputs": [
    {
     "name": "stdout",
     "output_type": "stream",
     "text": [
      "數學及格但英文不及格的同學名單: {'美環', '光彦'}\n",
      "數學不及格但英文及格的同學名單: {'野口', '丸尾'}\n",
      "兩者皆及格名單: {'柯南', '步美', '灰原'}\n"
     ]
    }
   ],
   "source": [
    "m={'柯南','灰原','步美','美環','光彦'}\n",
    "e={'柯南','灰原','丸尾','野口','步美'}\n",
    "\n",
    "print(f\"數學及格但英文不及格的同學名單: {m.difference(e)}\")\n",
    "print(f\"數學不及格但英文及格的同學名單: {e.difference(m)}\")\n",
    "print(f\"兩者皆及格名單: {m.intersection(e)}\")"
   ]
  },
  {
   "cell_type": "markdown",
   "metadata": {},
   "source": [
    "### 07 - 查詢路徑下所有檔案\n",
    "#### 請使用者輸入路徑，自動抓取路徑下所有檔案名稱\n",
    "\n",
    ">輸入(Input):data\\testfile 或 D:\\code\\ML_202105\\data\\testfile  <br>\n",
    "輸出(Output):\n",
    "```\n",
    "I'm a directory: file1\n",
    "I'm a directory: file2\n",
    "I'm a File: hw_07945001.txt\n",
    "I'm a File: hw_079450010.doc\n",
    "I'm a File: hw_07945002.txt\n",
    "I'm a File: hw_07945003.txt\n",
    "I'm a File: hw_07945004.txt\n",
    "I'm a File: hw_07945005.txt\n",
    "I'm a File: hw_07945007.txt\n",
    "I'm a File: hw_07945008.txt\n",
    "I'm a File: hw_07945009.txt\n",
    "```\n",
    "\n",
    "* 進階: 把file的學號抓出來，另存成一個新的csv檔"
   ]
  },
  {
   "cell_type": "code",
   "execution_count": null,
   "metadata": {},
   "outputs": [],
   "source": [
    "import os\n",
    "\n",
    "# 請使用者輸入或指定要查詢的路徑\n",
    "filename = input(\"請輸入（例如：\\testfile）或指定要查詢的路徑：\")\n",
    "# 列出指定路徑底下所有檔案(包含資料夾)\n",
    "allFileList = os.listdir()\n",
    "\n",
    "# 逐一查詢檔案清單\n",
    "for file in allFileList:\n",
    "#   這邊也可以視情況，做檔案的操作(複製、讀取...等)\n",
    "#   使用isdir檢查是否為目錄\n",
    "#   使用join的方式把路徑與檔案名稱串起來(等同filePath+fileName)\n",
    "    if os.path.isdir(os.path.join(yourPath,file)):\n",
    "        print(\"I'm a directory: \" + file)\n",
    "    #   使用isfile判斷是否為檔案\n",
    "    elif os.path.isfile(os.path.join(yourPath,file)):\n",
    "        print(\"I'm a File: \" + file)\n"
   ]
  },
  {
   "cell_type": "markdown",
   "metadata": {},
   "source": [
    "### 08 - 資料夾管理(shutil)\n",
    "#### 說明 ####\n",
    "\n",
    "```\n",
    "在目前所在的目錄下建立一files資料夾\n",
    "\n",
    "令使用者輸入一數字N，並在files資料夾中建立f1, f2… fN等N個資料夾後列出files的資料夾內容\n",
    "\n",
    "將files資料夾裡的f1資料夾重新命名成folder1後再列出files的資料夾內容\n",
    "\n",
    "移除files資料夾中的folder1後再列出files的資料夾內容\n",
    "\n",
    "最後移除files資料夾\n",
    "※須先退出files資料夾(os.chdir(../)) ![image.png](attachment:image.png)\n",
    "```\n"
   ]
  },
  {
   "cell_type": "code",
   "execution_count": null,
   "metadata": {},
   "outputs": [],
   "source": [
    "import os\n",
    "import shutil\n",
    "\n",
    "if os.path.exists('files'):\n",
    "    shutil.rmtree('files')\n",
    "os.mkdir('files')\n",
    "\n",
    "n = int(input())\n",
    "\n"
   ]
  },
  {
   "cell_type": "markdown",
   "metadata": {},
   "source": [
    "### 09 - 回文判斷（Is a palindrome）\n",
    "#### 請使用者輸入單字，判斷它是否為回文，也就是該單字前後對稱，例如 madam，從前讀到後或是從後讀到前的順序都是 madam。\n",
    "\n",
    "> 題目：<br>\n",
    "輸入(Input): 雨 滋 春 樹 碧 連 天  天 連 碧 樹 春 滋 雨 <br>\n",
    "輸出(Output):The text you have entered is a palindrome!<br>\n",
    "輸入(Input): 資工訓練班 <br>\n",
    "輸出(Output):The text you have entered is not a palindrome.\n"
   ]
  },
  {
   "cell_type": "code",
   "execution_count": null,
   "metadata": {},
   "outputs": [],
   "source": [
    "def convertInputString():\n",
    "    #請使用者輸入一串字串，先轉換字串為統一小寫\n",
    "    rawInput = input(\"\\nPlease enter a word, phrase, or a sentence \\nto check if it is a palindrome: \") \n",
    "    return ???\n",
    "\n",
    "def stripAnalphabetics(dirtyList): \n",
    "    analphabeticList = [\" \", \"-\", \".\", \",\", \":\", \";\", \"!\", \"?\", \"'\", \"\\\"\"] \n",
    "    #去除相關標點符號\n",
    "    return ???\n",
    "\n",
    "def runPalindromeCheck(straightList):\n",
    "    reversedList = straightList[::-1] \n",
    "    if ????: \n",
    "        return \"The text you have entered is a palindrome!\" \n",
    "    else: \n",
    "        return \"The text you have entered is not a palindrome.\" \n",
    "\n",
    "def main(): \n",
    "    print(\"\\nPalindrome checker\") \n",
    "\n",
    "\n",
    "main() "
   ]
  },
  {
   "cell_type": "markdown",
   "metadata": {},
   "source": [
    "### 10 - 總成績計算\n",
    "#### 說明 ####\n",
    "\n",
    "請讀取 `data/english_list.csv`與`data/math_list.csv`檔案(`utf-8`)後，將每位同學的英文與數學成績加總起來，並將檔案寫入至 `./Score.csv`中，編碼成`utf-8`<br>\n",
    "最後列印出每位學生姓名與加總後的分數<br>\n",
    "<a href=\"data\\english_list.csv\">英文成績下載</a><br>\n",
    "<a href=\"data\\math_list.csv\">數學成績下載</a><br>\n",
    "\n",
    "#### Input Format ####\n",
    "\n",
    "<br>\n",
    "csv資料(英文成績)<br>\n",
    "csv資料(數學成績)<br>\n",
    "<br>\n",
    "\n",
    "#### Output Format ####\n",
    "\n",
    "<br>\n",
    "\n",
    "![](data\\05.JPG)<br>\n",
    "<br>\n",
    "<br>\n",
    "(圖片參考用 以文字敘述為準)<br>\n",
    "\n",
    "\n",
    "\n",
    "\n",
    "#### Sample Input 1####\n",
    "\n",
    "\n",
    "\n",
    "```\n",
    "無標準輸入，只有檔案輸入\n",
    "```\n",
    "\n",
    "\n",
    "\n",
    "#### Sample Output 1####\n",
    "\n",
    "\n",
    "```\n",
    "廖冠霖 142\n",
    "王力中 124\n",
    "張平舜 108\n",
    ".\n",
    ".\n",
    ".\n",
    ".\n",
    ".\n",
    "陳姿茜 77\n",
    "涂珮瑜 134\n",
    "夏明哲 111\n",
    "\n",
    "```\n",
    "\n",
    "\n",
    "#### Hint ####\n",
    "\n",
    "\n",
    "\n",
    "```\n",
    "None\n",
    "```\n"
   ]
  },
  {
   "cell_type": "code",
   "execution_count": null,
   "metadata": {},
   "outputs": [],
   "source": [
    "fin_E = open(??????,\"r\",encoding='UTF-8')\n",
    "fin_M = open(??????,\"r\",encoding='UTF-8')\n",
    "lisE=[]\n",
    "lisM=[]\n",
    "name=[]\n",
    "for line in fin_E.readlines():\n",
    "    line = line.strip().split(\",\")\n",
    "    ???\n",
    "    ???\n",
    "    \n",
    "for line in fin_M.readlines():\n",
    "    line = line.strip().split(\",\")\n",
    "    ???\n",
    "    \n",
    "score=[]\n",
    "fout = open(\"Score.csv\",\"w\")\n",
    "line=''\n",
    "for i in range(???,???):\n",
    "    score.append(int(lisE[i])+int(lisM[i]))\n",
    "    list1 = [name[i],str(score[i-1]),\"\\n\"]\n",
    "    print(name[i],str(score[i-1]))\n",
    "    \n",
    "    line = \",\".join(list1)\n",
    "    fout.write(line)\n",
    "fin_E.close()\n",
    "fin_M.close()\n",
    "fout.close()\n",
    "'''\n",
    "line=''\n",
    "fout = open(\"Score.csv\",\"r\")\n",
    "for i in (len(name)):\n",
    "    print()\n",
    "'''\n"
   ]
  },
  {
   "cell_type": "code",
   "execution_count": null,
   "metadata": {},
   "outputs": [],
   "source": []
  }
 ],
 "metadata": {
  "kernelspec": {
   "display_name": "Python 3 (ipykernel)",
   "language": "python",
   "name": "python3"
  },
  "language_info": {
   "codemirror_mode": {
    "name": "ipython",
    "version": 3
   },
   "file_extension": ".py",
   "mimetype": "text/x-python",
   "name": "python",
   "nbconvert_exporter": "python",
   "pygments_lexer": "ipython3",
   "version": "3.13.5"
  }
 },
 "nbformat": 4,
 "nbformat_minor": 4
}
